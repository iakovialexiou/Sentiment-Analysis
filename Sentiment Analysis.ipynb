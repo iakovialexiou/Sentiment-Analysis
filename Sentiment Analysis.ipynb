{
 "cells": [
  {
   "cell_type": "code",
   "execution_count": 1,
   "id": "68db0eab",
   "metadata": {},
   "outputs": [
    {
     "name": "stdout",
     "output_type": "stream",
     "text": [
      "showing info https://raw.githubusercontent.com/nltk/nltk_data/gh-pages/index.xml\n"
     ]
    }
   ],
   "source": [
    "# import libraries\n",
    "\n",
    "import numpy as np\n",
    "import pandas as pd\n",
    "import csv\n",
    "import nltk\n",
    "nltk.download()\n",
    "import re"
   ]
  },
  {
   "cell_type": "code",
   "execution_count": 2,
   "id": "ea4a8bff",
   "metadata": {},
   "outputs": [],
   "source": [
    "# read file\n",
    "\n",
    "dataset = pd.read_csv(r\"C:\\Users\\Ιακώβη\\Downloads\\IMDB_Dataset.csv\")"
   ]
  },
  {
   "cell_type": "code",
   "execution_count": 3,
   "id": "6c3d4fc3",
   "metadata": {},
   "outputs": [
    {
     "name": "stdout",
     "output_type": "stream",
     "text": [
      "                                                  review sentiment\n",
      "0      One of the other reviewers has mentioned that ...  positive\n",
      "1      A wonderful little production. <br /><br />The...  positive\n",
      "2      I thought this was a wonderful way to spend ti...  positive\n",
      "3      Basically there's a family where a little boy ...  negative\n",
      "4      Petter Mattei's \"Love in the Time of Money\" is...  positive\n",
      "...                                                  ...       ...\n",
      "49995  I thought this movie did a down right good job...  positive\n",
      "49996  Bad plot, bad dialogue, bad acting, idiotic di...  negative\n",
      "49997  I am a Catholic taught in parochial elementary...  negative\n",
      "49998  I'm going to have to disagree with the previou...  negative\n",
      "49999  No one expects the Star Trek movies to be high...  negative\n",
      "\n",
      "[50000 rows x 2 columns]\n"
     ]
    }
   ],
   "source": [
    "# create and print a dataframe\n",
    "\n",
    "df = pd.DataFrame(dataset)\n",
    "print(df)"
   ]
  },
  {
   "cell_type": "code",
   "execution_count": 4,
   "id": "2f63d238",
   "metadata": {},
   "outputs": [
    {
     "name": "stdout",
     "output_type": "stream",
     "text": [
      "                                                 review sentiment\n",
      "0     One of the other reviewers has mentioned that ...  positive\n",
      "1     A wonderful little production. <br /><br />The...  positive\n",
      "2     I thought this was a wonderful way to spend ti...  positive\n",
      "3     Basically there's a family where a little boy ...  negative\n",
      "4     Petter Mattei's \"Love in the Time of Money\" is...  positive\n",
      "...                                                 ...       ...\n",
      "9995  Fun, entertaining movie about WWII German spy ...  positive\n",
      "9996  Give me a break. How can anyone say that this ...  negative\n",
      "9997  This movie is a bad movie. But after watching ...  negative\n",
      "9998  This is a movie that was probably made to ente...  negative\n",
      "9999  Smashing film about film-making. Shows the int...  positive\n",
      "\n",
      "[10000 rows x 2 columns]\n"
     ]
    }
   ],
   "source": [
    "# create and print a shortened version of the dataset\n",
    "\n",
    "shortened_dataset = df.head(10000)\n",
    "print(shortened_dataset)"
   ]
  },
  {
   "cell_type": "code",
   "execution_count": 5,
   "id": "f1a8be38",
   "metadata": {},
   "outputs": [
    {
     "data": {
      "text/plain": [
       "(10000, 2)"
      ]
     },
     "execution_count": 5,
     "metadata": {},
     "output_type": "execute_result"
    }
   ],
   "source": [
    "# find the shape of the shortened dataset\n",
    "\n",
    "shortened_dataset.shape"
   ]
  },
  {
   "cell_type": "code",
   "execution_count": 6,
   "id": "73b40847",
   "metadata": {},
   "outputs": [
    {
     "data": {
      "text/plain": [
       "positive    5028\n",
       "negative    4972\n",
       "Name: sentiment, dtype: int64"
      ]
     },
     "execution_count": 6,
     "metadata": {},
     "output_type": "execute_result"
    }
   ],
   "source": [
    "# check the distribution of sentiment\n",
    "\n",
    "shortened_dataset['sentiment'].value_counts()"
   ]
  },
  {
   "cell_type": "code",
   "execution_count": 7,
   "id": "1e7570a2",
   "metadata": {},
   "outputs": [
    {
     "data": {
      "text/plain": [
       "review       0\n",
       "sentiment    0\n",
       "dtype: int64"
      ]
     },
     "execution_count": 7,
     "metadata": {},
     "output_type": "execute_result"
    }
   ],
   "source": [
    "# check for null values\n",
    "\n",
    "shortened_dataset.isnull().sum()"
   ]
  },
  {
   "cell_type": "code",
   "execution_count": 8,
   "id": "7efd2ce1",
   "metadata": {},
   "outputs": [
    {
     "name": "stdout",
     "output_type": "stream",
     "text": [
      "0       One of the other reviewers has mentioned that ...\n",
      "1       A wonderful little production. <br /><br />The...\n",
      "2       I thought this was a wonderful way to spend ti...\n",
      "3       Basically there's a family where a little boy ...\n",
      "4       Petter Mattei's \"Love in the Time of Money\" is...\n",
      "                              ...                        \n",
      "9995    Fun, entertaining movie about WWII German spy ...\n",
      "9996    Give me a break. How can anyone say that this ...\n",
      "9997    This movie is a bad movie. But after watching ...\n",
      "9998    This is a movie that was probably made to ente...\n",
      "9999    Smashing film about film-making. Shows the int...\n",
      "Name: review, Length: 10000, dtype: object 0       positive\n",
      "1       positive\n",
      "2       positive\n",
      "3       negative\n",
      "4       positive\n",
      "          ...   \n",
      "9995    positive\n",
      "9996    negative\n",
      "9997    negative\n",
      "9998    negative\n",
      "9999    positive\n",
      "Name: sentiment, Length: 10000, dtype: object\n"
     ]
    }
   ],
   "source": [
    "# create a label for reviews section and for sentiment section \n",
    "\n",
    "x = shortened_dataset['review']   \n",
    "y = shortened_dataset['sentiment']  \n",
    "print(x,y)\n",
    "\n",
    "train_X=[]\n",
    "test_X=[]"
   ]
  },
  {
   "cell_type": "code",
   "execution_count": 9,
   "id": "66511273",
   "metadata": {},
   "outputs": [],
   "source": [
    "# split train from test set\n",
    "\n",
    "from sklearn.model_selection import train_test_split\n",
    "x_train,x_test,y_train,y_test=train_test_split(x,y,test_size=0.2, random_state = 42)"
   ]
  },
  {
   "cell_type": "code",
   "execution_count": 10,
   "id": "4184e160",
   "metadata": {},
   "outputs": [
    {
     "data": {
      "text/plain": [
       "((8000,), (2000,))"
      ]
     },
     "execution_count": 10,
     "metadata": {},
     "output_type": "execute_result"
    }
   ],
   "source": [
    "# find the shape of train and test set\n",
    "\n",
    "x_train.shape, x_test.shape"
   ]
  },
  {
   "cell_type": "code",
   "execution_count": 11,
   "id": "1f9e78ef",
   "metadata": {},
   "outputs": [],
   "source": [
    "# convert to lists (iterable objects) for the following data preprocessing loop\n",
    "\n",
    "train_x = list(x_train)\n",
    "test_x = list(x_test)\n",
    "train_y = list(y_train)\n",
    "test_y = list(y_test)"
   ]
  },
  {
   "cell_type": "code",
   "execution_count": 12,
   "id": "f6c21e42",
   "metadata": {},
   "outputs": [],
   "source": [
    "# data preprocessing \n",
    "\n",
    "from nltk.stem import WordNetLemmatizer\n",
    "lemmatizer = WordNetLemmatizer()\n",
    "stopwords = nltk.corpus.stopwords.words('english')\n",
    "\n",
    "for i in range(0, len(train_x)):\n",
    "    review = re.sub('[^a-zA-Z]', ' ', train_x[i])\n",
    "    review = review.lower()\n",
    "    review = review.split()\n",
    "    review = [lemmatizer.lemmatize(word) for word in review if not word in set(stopwords)]\n",
    "    review = ' '.join(review)\n",
    "    train_X.append(review)"
   ]
  },
  {
   "cell_type": "code",
   "execution_count": 13,
   "id": "5dacf9ce",
   "metadata": {},
   "outputs": [
    {
     "data": {
      "text/plain": [
       "'despite critic ensue enjoyed immensely precisely eyecandy side gender spectrum soderberg done artsy hard edge stuff oscar top game ocean light commercial fluffy steve day midway generally fan zeta jones even must admit kate stunning movie ending scream upcoming trequel one million flock see minute george brad matt parlay clooney dig lago di como swindle rich bad guy tolerated installment lord ring ask drool clooney salt pepper lid one time'"
      ]
     },
     "execution_count": 13,
     "metadata": {},
     "output_type": "execute_result"
    }
   ],
   "source": [
    "# check a random example of preprocessed text\n",
    "\n",
    "train_X[3]"
   ]
  },
  {
   "cell_type": "code",
   "execution_count": 14,
   "id": "ee421688",
   "metadata": {},
   "outputs": [],
   "source": [
    "# tf-idf vectorization\n",
    "from sklearn.feature_extraction.text import TfidfVectorizer\n",
    "tf_idf = TfidfVectorizer()\n",
    "\n",
    "# apply tf-idf to training data\n",
    "X_train_tf = tf_idf.fit_transform(train_X)"
   ]
  },
  {
   "cell_type": "code",
   "execution_count": 15,
   "id": "38754933",
   "metadata": {},
   "outputs": [
    {
     "name": "stdout",
     "output_type": "stream",
     "text": [
      "n_samples: 8000, n_features: 41860\n"
     ]
    }
   ],
   "source": [
    "print(\"n_samples: %d, n_features: %d\" % X_train_tf.shape)"
   ]
  },
  {
   "cell_type": "code",
   "execution_count": 16,
   "id": "7ff5669d",
   "metadata": {},
   "outputs": [],
   "source": [
    "# transform testing data into tf-idf matrix\n",
    "X_test_tf = tf_idf.transform(test_x)"
   ]
  },
  {
   "cell_type": "code",
   "execution_count": 17,
   "id": "9e2871c5",
   "metadata": {},
   "outputs": [
    {
     "name": "stdout",
     "output_type": "stream",
     "text": [
      "n_samples: 2000, n_features: 41860\n"
     ]
    }
   ],
   "source": [
    "print(\"n_samples: %d, n_features: %d\" % X_test_tf.shape)"
   ]
  },
  {
   "cell_type": "code",
   "execution_count": 18,
   "id": "c493e152",
   "metadata": {},
   "outputs": [
    {
     "data": {
      "text/plain": [
       "SVC(kernel='linear')"
      ]
     },
     "execution_count": 18,
     "metadata": {},
     "output_type": "execute_result"
    }
   ],
   "source": [
    "# support vector machine classifier\n",
    "from sklearn import svm\n",
    "from sklearn.svm import LinearSVC\n",
    "\n",
    "svm_classifier = svm.SVC(kernel='linear')\n",
    "\n",
    "# apply SVM classifier to training data\n",
    "svm_classifier.fit(X_train_tf, train_y)"
   ]
  },
  {
   "cell_type": "code",
   "execution_count": 19,
   "id": "fc217329",
   "metadata": {},
   "outputs": [],
   "source": [
    "# predict the test data\n",
    "y_pred = svm_classifier.predict(X_test_tf)"
   ]
  },
  {
   "cell_type": "code",
   "execution_count": 20,
   "id": "48598998",
   "metadata": {},
   "outputs": [
    {
     "name": "stdout",
     "output_type": "stream",
     "text": [
      "              precision    recall  f1-score   support\n",
      "\n",
      "    Negative       0.92      0.77      0.84       996\n",
      "    Positive       0.80      0.94      0.87      1004\n",
      "\n",
      "    accuracy                           0.85      2000\n",
      "   macro avg       0.86      0.85      0.85      2000\n",
      "weighted avg       0.86      0.85      0.85      2000\n",
      "\n"
     ]
    }
   ],
   "source": [
    "# analyze the results\n",
    "from sklearn import metrics\n",
    "\n",
    "print(metrics.classification_report(test_y, y_pred, target_names=['Negative', 'Positive']))"
   ]
  }
 ],
 "metadata": {
  "kernelspec": {
   "display_name": "Python 3 (ipykernel)",
   "language": "python",
   "name": "python3"
  },
  "language_info": {
   "codemirror_mode": {
    "name": "ipython",
    "version": 3
   },
   "file_extension": ".py",
   "mimetype": "text/x-python",
   "name": "python",
   "nbconvert_exporter": "python",
   "pygments_lexer": "ipython3",
   "version": "3.9.7"
  }
 },
 "nbformat": 4,
 "nbformat_minor": 5
}
